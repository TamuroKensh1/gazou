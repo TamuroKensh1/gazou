{
  "nbformat": 4,
  "nbformat_minor": 0,
  "metadata": {
    "colab": {
      "name": "preprocess.ipynb",
      "provenance": [],
      "mount_file_id": "1fdVivyUlJk1aGI3Z9wQtRyk3GE3JQWCF",
      "authorship_tag": "ABX9TyMnebYW7jlfPJZCb5COCrwm",
      "include_colab_link": true
    },
    "kernelspec": {
      "name": "python3",
      "display_name": "Python 3"
    }
  },
  "cells": [
    {
      "cell_type": "markdown",
      "metadata": {
        "id": "view-in-github",
        "colab_type": "text"
      },
      "source": [
        "<a href=\"https://colab.research.google.com/github/TamuroKensh1/gazou/blob/master/preprocess.ipynb\" target=\"_parent\"><img src=\"https://colab.research.google.com/assets/colab-badge.svg\" alt=\"Open In Colab\"/></a>"
      ]
    },
    {
      "cell_type": "code",
      "metadata": {
        "id": "hVPnd9s5UsCn",
        "colab_type": "code",
        "colab": {
          "base_uri": "https://localhost:8080/",
          "height": 161
        },
        "outputId": "e4f5a8a5-1aac-4b80-c964-cbc090f84528"
      },
      "source": [
        "import sys\n",
        "sys.path.append('/content/drive/My Drive/zemi/')\n",
        "\n",
        "import ic_module as ic\n",
        "import os.path as op\n",
        "\n",
        "i = 0\n",
        "for filename in ic.FileNames :\n",
        "    # ディレクトリ名入力\n",
        "    while True :\n",
        "        dirname = input(\">>「\" + ic.ClassNames[i] + \"」の画像のあるディレクトリ ： \")\n",
        "        if op.isdir(dirname) :\n",
        "            break\n",
        "        print(\">> そのディレクトリは存在しません！\")\n",
        "\n",
        "    # 関数実行\n",
        "    ic.PreProcess(dirname, filename, var_amount=3)\n",
        "    i += 1"
      ],
      "execution_count": 19,
      "outputs": [
        {
          "output_type": "stream",
          "text": [
            ">>「秋山竜次」の画像のあるディレクトリ ：  /content/drive/My Drive/zemi/face/秋山竜次\n",
            ">> そのディレクトリは存在しません！\n",
            ">>「秋山竜次」の画像のあるディレクトリ ： /content/drive/My Drive/zemi/face/秋山竜次\n",
            ">> /content/drive/My Drive/zemi/face/秋山竜次から68個のファイル読み込み成功\n",
            ">>「山本博」の画像のあるディレクトリ ： /content/drive/My Drive/zemi/face/山本博\n",
            ">> /content/drive/My Drive/zemi/face/山本博から60個のファイル読み込み成功\n",
            ">>「馬場裕之」の画像のあるディレクトリ ： /content/drive/My Drive/zemi/face/馬場裕之\n",
            ">> /content/drive/My Drive/zemi/face/馬場裕之から72個のファイル読み込み成功\n"
          ],
          "name": "stdout"
        }
      ]
    },
    {
      "cell_type": "code",
      "metadata": {
        "id": "Y2O8UvuFf5kT",
        "colab_type": "code",
        "colab": {}
      },
      "source": [
        ""
      ],
      "execution_count": null,
      "outputs": []
    }
  ]
}