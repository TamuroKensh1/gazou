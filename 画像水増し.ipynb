{
  "nbformat": 4,
  "nbformat_minor": 0,
  "metadata": {
    "colab": {
      "name": "画像水増し",
      "provenance": [],
      "mount_file_id": "1gDwSwabH33FcLuS08-3-BvQrjkELOz7W",
      "authorship_tag": "ABX9TyMEOI1K2bjIXMmNUM/AaQZV",
      "include_colab_link": true
    },
    "kernelspec": {
      "name": "python3",
      "display_name": "Python 3"
    }
  },
  "cells": [
    {
      "cell_type": "markdown",
      "metadata": {
        "id": "view-in-github",
        "colab_type": "text"
      },
      "source": [
        "<a href=\"https://colab.research.google.com/github/TamuroKensh1/gazou/blob/master/%E7%94%BB%E5%83%8F%E6%B0%B4%E5%A2%97%E3%81%97.ipynb\" target=\"_parent\"><img src=\"https://colab.research.google.com/assets/colab-badge.svg\" alt=\"Open In Colab\"/></a>"
      ]
    },
    {
      "cell_type": "code",
      "metadata": {
        "id": "TBx6ZJDJJHt3",
        "colab_type": "code",
        "colab": {
          "base_uri": "https://localhost:8080/",
          "height": 271
        },
        "outputId": "da0cfea7-816a-484e-e9f6-3ec9c244912a"
      },
      "source": [
        "!pip install icrawler"
      ],
      "execution_count": null,
      "outputs": [
        {
          "output_type": "stream",
          "text": [
            "Collecting icrawler\n",
            "  Downloading https://files.pythonhosted.org/packages/89/de/71d154b1fe181ee1a4afae5d10451856ef4689b3fd72d93cc55f31d2886a/icrawler-0.6.3-py2.py3-none-any.whl\n",
            "Requirement already satisfied: six>=1.10.0 in /usr/local/lib/python3.6/dist-packages (from icrawler) (1.15.0)\n",
            "Requirement already satisfied: lxml in /usr/local/lib/python3.6/dist-packages (from icrawler) (4.2.6)\n",
            "Requirement already satisfied: requests>=2.9.1 in /usr/local/lib/python3.6/dist-packages (from icrawler) (2.23.0)\n",
            "Requirement already satisfied: Pillow in /usr/local/lib/python3.6/dist-packages (from icrawler) (7.0.0)\n",
            "Requirement already satisfied: beautifulsoup4>=4.4.1 in /usr/local/lib/python3.6/dist-packages (from icrawler) (4.6.3)\n",
            "Requirement already satisfied: urllib3!=1.25.0,!=1.25.1,<1.26,>=1.21.1 in /usr/local/lib/python3.6/dist-packages (from requests>=2.9.1->icrawler) (1.24.3)\n",
            "Requirement already satisfied: certifi>=2017.4.17 in /usr/local/lib/python3.6/dist-packages (from requests>=2.9.1->icrawler) (2020.6.20)\n",
            "Requirement already satisfied: chardet<4,>=3.0.2 in /usr/local/lib/python3.6/dist-packages (from requests>=2.9.1->icrawler) (3.0.4)\n",
            "Requirement already satisfied: idna<3,>=2.5 in /usr/local/lib/python3.6/dist-packages (from requests>=2.9.1->icrawler) (2.10)\n",
            "Installing collected packages: icrawler\n",
            "Successfully installed icrawler-0.6.3\n"
          ],
          "name": "stdout"
        }
      ]
    },
    {
      "cell_type": "code",
      "metadata": {
        "id": "CFj1g2sRW6us",
        "colab_type": "code",
        "colab": {
          "base_uri": "https://localhost:8080/",
          "height": 53
        },
        "outputId": "0ac8c472-c10f-4275-9cc2-d75dfe2e47c5"
      },
      "source": [
        "# 画像を保存するフォルダに移動\n",
        "# pathは適宜変える\n",
        "%cd drive/My Drive/zemi/original_data\n",
        "!pwd"
      ],
      "execution_count": null,
      "outputs": [
        {
          "output_type": "stream",
          "text": [
            "/content/drive/My Drive/zemi/original_data\n",
            "/content/drive/My Drive/zemi/original_data\n"
          ],
          "name": "stdout"
        }
      ]
    },
    {
      "cell_type": "code",
      "metadata": {
        "id": "cnS5efiiXVlv",
        "colab_type": "code",
        "colab": {
          "base_uri": "https://localhost:8080/",
          "height": 1000
        },
        "outputId": "b5e1ce56-1870-4135-b817-d9b90277bc70"
      },
      "source": [
        "# from icrawler.builtin import BingImageCrawler\n",
        "# crawler = BingImageCrawler(storage={\"root_dir\": \"ここと\"})\n",
        "# crawler.crawl(keyword=\"ここを変えるt\", max_num=20)\n",
        "\n",
        "from icrawler.builtin import BingImageCrawler\n",
        "crawler = BingImageCrawler(storage={\"root_dir\": \"秋山竜次\"})\n",
        "crawler.crawl(keyword=\"秋山竜次\", max_num=20)\n",
        "\n",
        "from icrawler.builtin import BingImageCrawler\n",
        "crawler = BingImageCrawler(storage={\"root_dir\": \"ロバート 山本博\"})\n",
        "crawler.crawl(keyword=\"ロバート 山本博\", max_num=20)\n",
        "\n",
        "from icrawler.builtin import BingImageCrawler\n",
        "crawler = BingImageCrawler(storage={\"root_dir\": \"馬場裕之\"})\n",
        "crawler.crawl(keyword=\"馬場裕之\", max_num=20)"
      ],
      "execution_count": null,
      "outputs": [
        {
          "output_type": "stream",
          "text": [
            "2020-08-26 06:19:59,049 - INFO - icrawler.crawler - start crawling...\n",
            "2020-08-26 06:19:59,050 - INFO - icrawler.crawler - starting 1 feeder threads...\n",
            "2020-08-26 06:19:59,054 - INFO - feeder - thread feeder-001 exit\n",
            "2020-08-26 06:19:59,054 - INFO - icrawler.crawler - starting 1 parser threads...\n",
            "2020-08-26 06:19:59,063 - INFO - icrawler.crawler - starting 1 downloader threads...\n",
            "2020-08-26 06:19:59,371 - INFO - parser - parsing result page https://www.bing.com/images/async?q=秋山竜次&first=0\n",
            "2020-08-26 06:19:59,478 - INFO - downloader - image #1\thttps://upload.wikimedia.org/wikipedia/commons/1/12/RD0A0466-AKIYAMA.jpg\n",
            "2020-08-26 06:20:00,307 - INFO - downloader - image #2\thttp://ent.smt.docomo.ne.jp/wp-content/uploads/2017/07/e9c180e1eff19a8e497e4fbae8a13a38.jpg\n",
            "2020-08-26 06:20:00,330 - ERROR - downloader - Response status code 404, file https://upload.wikimedia.org/wikipedia/commons/thumb/d/dd/AkiyamaRyuji3F4A0238.jpg\n",
            "2020-08-26 06:20:05,499 - INFO - downloader - image #3\thttp://yumeijinhensachi.com/wp-content/uploads/2017/03/43cb10ccb1cdfe1a37641b52f65c24e9.jpg\n",
            "2020-08-26 06:20:05,579 - INFO - downloader - image #4\thttps://weblio.hs.llnwd.net/e7/img/dict/tltdb/images/2000077/2000077097.jpg\n",
            "2020-08-26 06:20:05,712 - INFO - downloader - image #5\thttps://image.jimcdn.com/app/cms/image/transf/dimension=210x210:mode=crop:format=jpg/path/sd6e3dc54d54b6d5f/image/ic01b868c0c4136f9/version/1478927748/image.jpg\n",
            "2020-08-26 06:20:05,736 - INFO - downloader - image #6\thttps://i.ytimg.com/vi/qjemVqVsF-0/hqdefault.jpg\n",
            "2020-08-26 06:20:06,416 - INFO - downloader - image #7\thttp://oriran.com/ptrue/t1102103365770.jpg\n",
            "2020-08-26 06:20:07,615 - INFO - downloader - image #8\thttps://eiga.k-img.com/images/person/84736/da407f76f13be52a/320.jpg\n",
            "2020-08-26 06:20:07,711 - INFO - downloader - image #9\thttps://stat.ameba.jp/user_images/20100523/11/no-sgn/de/62/j/t01800240_0180024010554775896.jpg\n",
            "2020-08-26 06:20:09,796 - INFO - downloader - image #10\thttp://www.tv-tokyo.co.jp/txcms/media/others/1e/09/7c8ae764d3486341fa20b8df3c7d.jpg\n",
            "2020-08-26 06:20:10,294 - INFO - downloader - image #11\thttps://www.cinra.net/uploads/img/news/2017/20171202-kuroijyuninakiyama18.jpg\n",
            "2020-08-26 06:20:10,491 - INFO - downloader - image #12\thttps://thetv.jp/i/nw/182754/1087124.jpg\n",
            "2020-08-26 06:20:11,665 - INFO - downloader - image #13\thttps://otekomachi.yomiuri.co.jp/wp-content/uploads/2018/03/edfcb95c16803e5a48dfc62bed7dd048.jpg\n",
            "2020-08-26 06:20:13,054 - INFO - downloader - image #14\thttps://c799eb2b0cad47596bf7b1e050e83426.cdnext.stream.ne.jp/img/article/000/233/124/89e2e8d9fe924980aa4aea9ba62ba4df20180711145225688.jpg\n",
            "2020-08-26 06:20:13,675 - INFO - downloader - image #15\thttp://yumeijinhensachi.com/wp-content/uploads/2017/03/8b3612a456086665e9d10e67b97ce566-179x300.jpg\n",
            "2020-08-26 06:20:13,810 - INFO - downloader - image #16\thttps://img-mdpr.freetls.fastly.net/article/FAwp/nm/FAwpOp6AVlhThH4czOIEzD3Cm35oQHZWODrKVVJhDTw.jpg\n",
            "2020-08-26 06:20:14,692 - INFO - downloader - image #17\thttps://mukai16.com/wp-content/uploads/2016/10/1-300x205.jpg\n",
            "2020-08-26 06:20:15,174 - INFO - downloader - image #18\thttps://www.cinra.net/uploads/img/news/2017/20171202-kuroijyuninakiyama19.jpg\n",
            "2020-08-26 06:20:15,634 - INFO - downloader - image #19\thttp://www.tv-ranking.com/photo/detail/1/1820_9.jpg\n",
            "2020-08-26 06:20:16,589 - INFO - downloader - image #20\thttps://dogatch-static-data.s3-ap-northeast-1.amazonaws.com/prod/kanren_news/20181026/de2aedd99e5311ec8aba6a2d2391ef71.jpg\n",
            "2020-08-26 06:20:16,889 - INFO - downloader - downloaded images reach max num, thread downloader-001 is ready to exit\n",
            "2020-08-26 06:20:16,890 - INFO - downloader - thread downloader-001 exit\n",
            "2020-08-26 06:20:17,085 - INFO - icrawler.crawler - Crawling task done!\n",
            "2020-08-26 06:20:17,087 - INFO - icrawler.crawler - start crawling...\n",
            "2020-08-26 06:20:17,088 - INFO - icrawler.crawler - starting 1 feeder threads...\n",
            "2020-08-26 06:20:17,089 - INFO - feeder - thread feeder-001 exit\n",
            "2020-08-26 06:20:17,090 - INFO - icrawler.crawler - starting 1 parser threads...\n",
            "2020-08-26 06:20:17,094 - INFO - icrawler.crawler - starting 1 downloader threads...\n",
            "2020-08-26 06:20:17,461 - INFO - parser - parsing result page https://www.bing.com/images/async?q=ロバート 山本博&first=0\n",
            "2020-08-26 06:20:18,543 - INFO - downloader - image #1\thttps://solife-a.com/wp-content/uploads/2015/11/ロバート山本博.jpg\n",
            "2020-08-26 06:20:18,595 - INFO - parser - no more page urls for thread parser-001 to parse\n",
            "2020-08-26 06:20:18,596 - INFO - parser - thread parser-001 exit\n",
            "2020-08-26 06:20:19,615 - INFO - downloader - image #2\thttps://newsmatomedia.com/wp-content/uploads/6d9e47c79230325b63ca623f4d4c9694-233x300.jpg\n",
            "2020-08-26 06:20:20,807 - ERROR - downloader - Response status code 404, file https://img01.ti-da.net/usr/c/h/i/chiha5151/56769_200807290171211001217261709a.jpg\n",
            "2020-08-26 06:20:21,982 - INFO - downloader - image #3\thttps://i.daily.jp/gossip/2016/07/23/Images/09312709.jpg\n",
            "2020-08-26 06:20:22,590 - INFO - downloader - image #4\thttps://livedoor.blogimg.jp/gejoad/imgs/6/c/6cb24853.jpg\n",
            "2020-08-26 06:20:23,059 - INFO - downloader - image #5\thttps://episode.shojien.com/wp-content/uploads/2015/05/robertyamamoto.jpg\n",
            "2020-08-26 06:20:24,062 - INFO - downloader - image #6\thttps://www.sponichi.co.jp/entertainment/news/2015/11/26/jpeg/G20151126011581280_view.jpg\n",
            "2020-08-26 06:20:25,542 - INFO - downloader - image #7\thttps://www.dailyshincho.com/wp-content/uploads/2018/06/1806070731_1.jpg\n",
            "2020-08-26 06:20:27,693 - INFO - downloader - image #8\thttps://www.rbbtoday.com/imgs/p/RqJIzsl7cmxG8-cARbeaqilNLEDQQ0JFREdG/636843.jpg\n",
            "2020-08-26 06:20:30,430 - INFO - downloader - image #9\thttps://welcome-toyoake.jp/img/topics/symposium04.jpg\n",
            "2020-08-26 06:20:31,994 - INFO - downloader - image #10\thttps://img.dmenumedia.jp/ent/wp-content/uploads/2016/12/yamamoto_111.jpg\n",
            "2020-08-26 06:20:32,863 - INFO - downloader - image #11\thttps://ddnavi.com/wp-content/uploads/2018/11/robart_8.jpg\n",
            "2020-08-26 06:20:33,020 - ERROR - downloader - Response status code 404, file https://upload.wikimedia.org/wikipedia/commons/thumb/0/07/YamamotoHiroshi3F4A0223.jpg\n",
            "2020-08-26 06:20:33,863 - INFO - downloader - image #12\thttps://i.smalljoys.me/2019/09/1-63.jpg\n",
            "2020-08-26 06:20:34,452 - INFO - downloader - image #13\thttps://blog-imgs-43-origin.fc2.com/g/e/i/geinou77777/20090313_01_135.jpg\n",
            "2020-08-26 06:20:35,710 - INFO - downloader - image #14\thttps://img.mamagirl.jp/image/writer_contents/2020/02/20/23/476348/77VOtiw7AiozTI58BhvM_l.jpg\n",
            "2020-08-26 06:20:35,804 - INFO - downloader - image #15\thttps://i.ytimg.com/vi/UsNoZk5NXNk/maxresdefault.jpg\n",
            "2020-08-26 06:20:36,957 - INFO - downloader - image #16\thttps://img.mamagirl.jp/image/writer_contents/2020/03/13/07/484150/lRzzbThjFper9cX8j1rg_l.jpg\n",
            "2020-08-26 06:20:37,214 - INFO - downloader - image #17\thttps://ddnavi.com/wp-content/uploads/2018/11/robart_1.jpg\n",
            "2020-08-26 06:20:37,499 - INFO - downloader - image #18\thttps://i.pinimg.com/originals/6f/ac/31/6fac31be5ca0adf942a4aa4ae3d39d03.jpg\n",
            "2020-08-26 06:20:38,034 - INFO - downloader - image #19\thttps://img-mdpr.freetls.fastly.net/article/BPW6/nm/BPW6o1SWqe0OaYC8xxjt094-ZpXVDX4IvVrpEYnD56s.jpg\n",
            "2020-08-26 06:20:38,140 - INFO - downloader - image #20\thttps://i.ytimg.com/vi/-gJyR7gtghU/maxresdefault.jpg\n",
            "2020-08-26 06:20:39,174 - INFO - downloader - downloaded images reach max num, thread downloader-001 is ready to exit\n",
            "2020-08-26 06:20:39,175 - INFO - downloader - thread downloader-001 exit\n",
            "2020-08-26 06:20:39,222 - INFO - parser - no more page urls for thread parser-001 to parse\n",
            "2020-08-26 06:20:39,224 - INFO - parser - thread parser-001 exit\n",
            "2020-08-26 06:20:40,131 - INFO - icrawler.crawler - Crawling task done!\n",
            "2020-08-26 06:20:40,150 - INFO - icrawler.crawler - start crawling...\n",
            "2020-08-26 06:20:40,151 - INFO - icrawler.crawler - starting 1 feeder threads...\n",
            "2020-08-26 06:20:40,156 - INFO - feeder - thread feeder-001 exit\n",
            "2020-08-26 06:20:40,157 - INFO - icrawler.crawler - starting 1 parser threads...\n",
            "2020-08-26 06:20:40,164 - INFO - icrawler.crawler - starting 1 downloader threads...\n",
            "2020-08-26 06:20:40,461 - INFO - parser - parsing result page https://www.bing.com/images/async?q=馬場裕之&first=0\n",
            "2020-08-26 06:20:40,568 - INFO - downloader - image #1\thttps://image.jimcdn.com/app/cms/image/transf/dimension=210x210:mode=crop:format=jpg/path/sd6e3dc54d54b6d5f/image/i542057a2bf1691e2/version/1501070087/image.jpg\n",
            "2020-08-26 06:20:41,446 - INFO - downloader - image #2\thttps://toresoku1.com/wp-content/uploads/2017/04/N0056778_l-e1491437109154.jpg\n",
            "2020-08-26 06:20:41,514 - ERROR - downloader - Response status code 404, file https://upload.wikimedia.org/wikipedia/commons/thumb/e/e1/BabaHiroyuki3F4A0198.jpg\n",
            "2020-08-26 06:20:42,239 - INFO - downloader - image #3\thttp://contents.oricon.co.jp/upimg/news/20131018/2029197_201310180726796001382084036c.jpg\n",
            "2020-08-26 06:20:42,390 - INFO - downloader - image #4\thttp://www.tv-ranking.com/photo/detail/3/3908_1.jpg\n",
            "2020-08-26 06:20:43,388 - INFO - downloader - image #5\thttps://yumeijinhensachi.com/wp-content/uploads/2018/04/01-30.jpg\n",
            "2020-08-26 06:20:43,980 - INFO - downloader - image #6\thttp://v1.mato.media/_tools/img/person-big/8472.jpg\n",
            "2020-08-26 06:20:44,073 - INFO - downloader - image #7\thttp://stat.ameba.jp/user_images/20121124/18/realstones/22/28/j/t02200271_0228028112300871015.jpg\n",
            "2020-08-26 06:20:44,241 - INFO - downloader - image #8\thttps://cdn-ak.f.st-hatena.com/images/fotolife/y/ym666/20170701/20170701172838.jpg\n",
            "2020-08-26 06:20:44,291 - INFO - downloader - image #9\thttp://www.tv-ranking.com/photo/detail/3/3908_9.jpg\n",
            "2020-08-26 06:20:46,516 - INFO - downloader - image #10\thttps://www.discovermuranotakara.com/assets/img/summit/y_baba.jpg\n",
            "2020-08-26 06:20:47,382 - INFO - downloader - image #11\thttps://contents.oricon.co.jp/upimg/news/20090405/64894_200904050720642001238908536b.jpg\n",
            "2020-08-26 06:20:47,414 - INFO - downloader - image #12\thttps://www.tv-ranking.com/photo/detail/3/3908_6.jpg\n",
            "2020-08-26 06:20:47,834 - INFO - downloader - image #13\thttp://stat.ameba.jp/user_images/20110424/23/no-sgn/f7/64/j/o0180024011185876122.jpg\n",
            "2020-08-26 06:20:47,900 - INFO - downloader - image #14\thttps://stat.ameba.jp/user_images/20130723/08/13202373/c7/63/j/o0133020012619482390.jpg\n",
            "2020-08-26 06:20:48,798 - INFO - downloader - image #15\thttps://images.npn.co.jp/article/3/1/27/92111627.jpg\n",
            "2020-08-26 06:20:49,489 - INFO - downloader - image #16\thttp://stat.news.ameba.jp/news_images/20170808/14/d9/r8/j/o0640048320170808_143207_size640wh_5532.jpg\n",
            "2020-08-26 06:20:49,895 - INFO - downloader - image #17\thttp://livedoor.blogimg.jp/gejoad/imgs/3/9/396dc37e.jpg\n",
            "2020-08-26 06:20:50,002 - INFO - downloader - image #18\thttp://prt.iza.ne.jp/kiji/entertainments/images/170926/ent17092615170007-p1.jpg\n",
            "2020-08-26 06:20:50,035 - INFO - downloader - image #19\thttps://www.tv-ranking.com/photo/detail/3/3908_4.jpg\n",
            "2020-08-26 06:20:50,063 - INFO - downloader - image #20\thttps://stat.ameba.jp/user_images/20130723/08/13202373/35/2d/j/o0160032012619482395.jpg\n",
            "2020-08-26 06:20:50,143 - INFO - downloader - downloaded images reach max num, thread downloader-001 is ready to exit\n",
            "2020-08-26 06:20:50,144 - INFO - downloader - thread downloader-001 exit\n",
            "2020-08-26 06:20:50,180 - INFO - icrawler.crawler - Crawling task done!\n"
          ],
          "name": "stderr"
        }
      ]
    },
    {
      "cell_type": "code",
      "metadata": {
        "id": "OlJObbUni4hk",
        "colab_type": "code",
        "colab": {
          "base_uri": "https://localhost:8080/",
          "height": 989
        },
        "outputId": "b68fdef1-639a-49a3-e650-180c86a9ba83"
      },
      "source": [
        "import cv2\n",
        "import matplotlib.pyplot as plt\n",
        "import sys\n",
        "from keras.preprocessing.image import array_to_img,img_to_array,load_img\n",
        "import numpy as np\n",
        "import os\n",
        "\n",
        "MyDrive = \"/content/drive/My Drive/zemi\"\n",
        "\n",
        "cascade_path=MyDrive+\"/haarcascade_frontalface_alt.xml\"\n",
        "\n",
        "X_train=[]\n",
        "Y_train=[]\n",
        "\n",
        "X_test=[]\n",
        "Y_test=[]\n",
        "\n",
        "l=os.listdir(MyDrive+\"/original_data\")\n",
        "for i in l:\n",
        "    result_dir=i.split(\".\")[0]\n",
        "    os.mkdir(MyDrive+\"/face/\"+result_dir)\n",
        "\n",
        "    m=os.listdir(MyDrive+\"/original_data/\"+i)\n",
        "    n=0\n",
        "    for target_file in m:\n",
        "        origin_image=(MyDrive+\"/original_data/\"+i+\"/\"+target_file)\n",
        "        print(origin_image)\n",
        "        cascade=cv2.CascadeClassifier(cascade_path)\n",
        "        image=cv2.imread(origin_image)\n",
        "\n",
        "        image=cv2.cvtColor(image,cv2.COLOR_BGR2RGB)\n",
        "        gray=cv2.cvtColor(image,cv2.COLOR_RGB2GRAY)\n",
        "\n",
        "        facerect=cascade.detectMultiScale(gray,scaleFactor=1.1,minNeighbors=1,minSize=(10,10))\n",
        "\n",
        "        for x,y,w,h in facerect:\n",
        "            face=gray[y:y+h,x:x+w]\n",
        "            face=cv2.resize(face,(128,128))\n",
        "            save_path=MyDrive+\"/face/\"+result_dir+\"/image_\"+str(n)+\".jpg\"\n",
        "            cv2.imwrite(save_path,face)\n",
        "            n=n+1\n",
        "            face=cv2.flip(face,1)\n",
        "            save_path=MyDrive+\"/face/\"+result_dir+\"/image_\"+str(n)+\".jpg\"\n",
        "            cv2.imwrite(save_path,face)\n",
        "            n=n+1\n",
        "            face=cv2.blur(face,(10,10))\n",
        "            save_path=MyDrive+\"/face/\"+result_dir+\"/image_\"+str(n)+\".jpg\"\n",
        "            cv2.imwrite(save_path,face)\n",
        "            n=n+1\n",
        "            face=cv2.blur(cv2.flip(face,1),(10,10))\n",
        "            save_path=MyDrive+\"/face/\"+result_dir+\"/image_\"+str(n)+\".jpg\"\n",
        "            cv2.imwrite(save_path,face)\n",
        "            n=n+1"
      ],
      "execution_count": null,
      "outputs": [
        {
          "output_type": "stream",
          "text": [
            "/content/drive/My Drive/zemi/original_data/test/000003.jpg\n",
            "/content/drive/My Drive/zemi/original_data/test/000013.jpg\n",
            "/content/drive/My Drive/zemi/original_data/test/000002.jpg\n",
            "/content/drive/My Drive/zemi/original_data/test/000009.jpg\n",
            "/content/drive/My Drive/zemi/original_data/test/000001.jpg\n",
            "/content/drive/My Drive/zemi/original_data/test/000010.jpg\n",
            "/content/drive/My Drive/zemi/original_data/秋山竜次/000001.jpg\n",
            "/content/drive/My Drive/zemi/original_data/秋山竜次/000002.jpg\n",
            "/content/drive/My Drive/zemi/original_data/秋山竜次/000004.jpg\n",
            "/content/drive/My Drive/zemi/original_data/秋山竜次/000005.jpg\n",
            "/content/drive/My Drive/zemi/original_data/秋山竜次/000006.jpg\n",
            "/content/drive/My Drive/zemi/original_data/秋山竜次/000007.jpg\n",
            "/content/drive/My Drive/zemi/original_data/秋山竜次/000008.jpg\n",
            "/content/drive/My Drive/zemi/original_data/秋山竜次/000009.jpg\n",
            "/content/drive/My Drive/zemi/original_data/秋山竜次/000010.jpg\n",
            "/content/drive/My Drive/zemi/original_data/秋山竜次/000011.jpg\n",
            "/content/drive/My Drive/zemi/original_data/秋山竜次/000012.jpg\n",
            "/content/drive/My Drive/zemi/original_data/秋山竜次/000014.jpg\n",
            "/content/drive/My Drive/zemi/original_data/秋山竜次/000015.jpg\n",
            "/content/drive/My Drive/zemi/original_data/秋山竜次/000016.jpg\n",
            "/content/drive/My Drive/zemi/original_data/秋山竜次/000017.jpg\n",
            "/content/drive/My Drive/zemi/original_data/秋山竜次/000018.jpg\n",
            "/content/drive/My Drive/zemi/original_data/秋山竜次/000019.jpg\n",
            "/content/drive/My Drive/zemi/original_data/秋山竜次/000020.jpg\n",
            "/content/drive/My Drive/zemi/original_data/ロバート 山本博/000001.jpg\n",
            "/content/drive/My Drive/zemi/original_data/ロバート 山本博/000003.jpg\n",
            "/content/drive/My Drive/zemi/original_data/ロバート 山本博/000004.jpg\n",
            "/content/drive/My Drive/zemi/original_data/ロバート 山本博/000005.jpg\n",
            "/content/drive/My Drive/zemi/original_data/ロバート 山本博/000006.jpg\n",
            "/content/drive/My Drive/zemi/original_data/ロバート 山本博/000007.jpg\n",
            "/content/drive/My Drive/zemi/original_data/ロバート 山本博/000008.jpg\n",
            "/content/drive/My Drive/zemi/original_data/ロバート 山本博/000010.jpg\n",
            "/content/drive/My Drive/zemi/original_data/ロバート 山本博/000011.jpg\n",
            "/content/drive/My Drive/zemi/original_data/ロバート 山本博/000012.jpg\n",
            "/content/drive/My Drive/zemi/original_data/ロバート 山本博/000014.jpg\n",
            "/content/drive/My Drive/zemi/original_data/ロバート 山本博/000016.jpg\n",
            "/content/drive/My Drive/zemi/original_data/ロバート 山本博/000019.jpg\n",
            "/content/drive/My Drive/zemi/original_data/馬場裕之/000002.jpg\n",
            "/content/drive/My Drive/zemi/original_data/馬場裕之/000003.jpg\n",
            "/content/drive/My Drive/zemi/original_data/馬場裕之/000004.jpg\n",
            "/content/drive/My Drive/zemi/original_data/馬場裕之/000005.jpg\n",
            "/content/drive/My Drive/zemi/original_data/馬場裕之/000006.jpg\n",
            "/content/drive/My Drive/zemi/original_data/馬場裕之/000007.jpg\n",
            "/content/drive/My Drive/zemi/original_data/馬場裕之/000008.jpg\n",
            "/content/drive/My Drive/zemi/original_data/馬場裕之/000009.jpg\n",
            "/content/drive/My Drive/zemi/original_data/馬場裕之/000011.jpg\n",
            "/content/drive/My Drive/zemi/original_data/馬場裕之/000012.jpg\n",
            "/content/drive/My Drive/zemi/original_data/馬場裕之/000013.jpg\n",
            "/content/drive/My Drive/zemi/original_data/馬場裕之/000014.jpg\n",
            "/content/drive/My Drive/zemi/original_data/馬場裕之/000016.jpg\n",
            "/content/drive/My Drive/zemi/original_data/馬場裕之/000017.jpg\n",
            "/content/drive/My Drive/zemi/original_data/馬場裕之/000018.jpg\n",
            "/content/drive/My Drive/zemi/original_data/馬場裕之/000019.jpg\n",
            "/content/drive/My Drive/zemi/original_data/馬場裕之/000020.jpg\n"
          ],
          "name": "stdout"
        }
      ]
    },
    {
      "cell_type": "code",
      "metadata": {
        "id": "4uXx0ByQj4e_",
        "colab_type": "code",
        "colab": {}
      },
      "source": [
        ""
      ],
      "execution_count": null,
      "outputs": []
    }
  ]
}